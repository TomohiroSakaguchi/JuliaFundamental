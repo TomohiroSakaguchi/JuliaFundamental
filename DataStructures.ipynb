{
 "cells": [
  {
   "cell_type": "markdown",
   "metadata": {},
   "source": [
    "***構造体の扱い***\n",
    "\n",
    "Juliaで扱える構造体には以下の型があります．\n",
    "1. 辞書型\n",
    "2. タプル型\n",
    "3. アレイ型"
   ]
  },
  {
   "cell_type": "markdown",
   "metadata": {},
   "source": [
    "***辞書型***\n",
    "\n",
    "データのそれぞれにもう一つのデータを組み合わせたい時，辞書型が最もおすすめです．"
   ]
  },
  {
   "cell_type": "code",
   "execution_count": 11,
   "metadata": {},
   "outputs": [
    {
     "data": {
      "text/plain": [
       "Dict{String,String} with 3 entries:\n",
       "  \"Jenny\"           => \"867-3945\"\n",
       "  \"GohstofTsushima\" => \"248-1147\"\n",
       "  \"Ojiue\"           => \"404-5180\""
      ]
     },
     "execution_count": 11,
     "metadata": {},
     "output_type": "execute_result"
    }
   ],
   "source": [
    "myphonebook = Dict(\"Jenny\" => \"867-3945\", \"GohstofTsushima\" => \"248-1147\", \"Ojiue\" => \"404-5180\")"
   ]
  },
  {
   "cell_type": "markdown",
   "metadata": {},
   "source": [
    "ここで新しく友達ができて番号を追加したいとしましょう．この場合は以下のコードを打てば解決です．"
   ]
  },
  {
   "cell_type": "code",
   "execution_count": 12,
   "metadata": {},
   "outputs": [
    {
     "data": {
      "text/plain": [
       "\"810-1919\""
      ]
     },
     "execution_count": 12,
     "metadata": {},
     "output_type": "execute_result"
    }
   ],
   "source": [
    "myphonebook[\"Karma\"] = \"810-1919\""
   ]
  },
  {
   "cell_type": "code",
   "execution_count": 13,
   "metadata": {},
   "outputs": [
    {
     "data": {
      "text/plain": [
       "Dict{String,String} with 4 entries:\n",
       "  \"Jenny\"           => \"867-3945\"\n",
       "  \"GohstofTsushima\" => \"248-1147\"\n",
       "  \"Ojiue\"           => \"404-5180\"\n",
       "  \"Karma\"           => \"810-1919\""
      ]
     },
     "execution_count": 13,
     "metadata": {},
     "output_type": "execute_result"
    }
   ],
   "source": [
    "myphonebook"
   ]
  },
  {
   "cell_type": "markdown",
   "metadata": {},
   "source": [
    "これによりそれぞれの名前と番号は\"key\"と\"value\"というペアになっている．\n",
    "\n",
    "例えば\"Karma\"の番号をしりたい時には\"key\"を呼び出せばいいだけになる．"
   ]
  },
  {
   "cell_type": "code",
   "execution_count": 14,
   "metadata": {},
   "outputs": [
    {
     "data": {
      "text/plain": [
       "\"810-1919\""
      ]
     },
     "execution_count": 14,
     "metadata": {},
     "output_type": "execute_result"
    }
   ],
   "source": [
    "myphonebook[\"Karma\"]"
   ]
  },
  {
   "cell_type": "markdown",
   "metadata": {},
   "source": [
    "つまり，先ほど\"Karma\"の番号を追加していたのは\"Karma\"という\"key\"に対して\"810-1919\"という\"value\"を代入していたということなのである．"
   ]
  },
  {
   "cell_type": "markdown",
   "metadata": {},
   "source": [
    "しかし\"Karma\"とは別に雰囲気に流されて番号を登録しただけであって別にもういい，消したいと思うようになりました．\n",
    "\n",
    "そんな時には```pop!()```を使えばきれいさっぱりです！"
   ]
  },
  {
   "cell_type": "code",
   "execution_count": 15,
   "metadata": {},
   "outputs": [
    {
     "data": {
      "text/plain": [
       "\"810-1919\""
      ]
     },
     "execution_count": 15,
     "metadata": {},
     "output_type": "execute_result"
    }
   ],
   "source": [
    "pop!(myphonebook, \"Karma\")"
   ]
  },
  {
   "cell_type": "code",
   "execution_count": 16,
   "metadata": {},
   "outputs": [
    {
     "data": {
      "text/plain": [
       "Dict{String,String} with 3 entries:\n",
       "  \"Jenny\"           => \"867-3945\"\n",
       "  \"GohstofTsushima\" => \"248-1147\"\n",
       "  \"Ojiue\"           => \"404-5180\""
      ]
     },
     "execution_count": 16,
     "metadata": {},
     "output_type": "execute_result"
    }
   ],
   "source": [
    "myphonebook"
   ]
  },
  {
   "cell_type": "markdown",
   "metadata": {},
   "source": [
    "しかし，タプル型やアレイ型とは違って辞書型は順番という概念がありません．したがってindexによって名前を指定することはできません．"
   ]
  },
  {
   "cell_type": "code",
   "execution_count": 18,
   "metadata": {},
   "outputs": [
    {
     "ename": "LoadError",
     "evalue": "\u001b[91mKeyError: key 1 not found\u001b[39m",
     "output_type": "error",
     "traceback": [
      "\u001b[91mKeyError: key 1 not found\u001b[39m",
      "",
      "Stacktrace:",
      " [1] getindex(::Dict{String,String}, ::Int64) at ./dict.jl:467",
      " [2] top-level scope at In[18]:1",
      " [3] include_string(::Function, ::Module, ::String, ::String) at ./loading.jl:1091"
     ]
    }
   ],
   "source": [
    "myphonebook[1]"
   ]
  },
  {
   "cell_type": "markdown",
   "metadata": {},
   "source": [
    "**タプル型**\n",
    "\n",
    "順繰りで閉じた要素をタプルと呼びます．これは```()```で括るだけです．"
   ]
  },
  {
   "cell_type": "code",
   "execution_count": 20,
   "metadata": {},
   "outputs": [
    {
     "data": {
      "text/plain": [
       "(\"cats\", \"penguins\", \"oshushi\")"
      ]
     },
     "execution_count": 20,
     "metadata": {},
     "output_type": "execute_result"
    }
   ],
   "source": [
    "myfavanimals = (\"cats\" , \"penguins\", \"oshushi\")"
   ]
  },
  {
   "cell_type": "markdown",
   "metadata": {},
   "source": [
    "タプルではindexが使えます．"
   ]
  },
  {
   "cell_type": "code",
   "execution_count": 22,
   "metadata": {},
   "outputs": [
    {
     "data": {
      "text/plain": [
       "\"cats\""
      ]
     },
     "execution_count": 22,
     "metadata": {},
     "output_type": "execute_result"
    }
   ],
   "source": [
    "myfavanimals[1]"
   ]
  },
  {
   "cell_type": "markdown",
   "metadata": {},
   "source": [
    "しかしタプル型は閉じられているので後から部分的に変更することはできません．"
   ]
  },
  {
   "cell_type": "code",
   "execution_count": 24,
   "metadata": {},
   "outputs": [
    {
     "ename": "LoadError",
     "evalue": "\u001b[91mMethodError: no method matching setindex!(::Tuple{String,String,String}, ::String, ::Int64)\u001b[39m",
     "output_type": "error",
     "traceback": [
      "\u001b[91mMethodError: no method matching setindex!(::Tuple{String,String,String}, ::String, ::Int64)\u001b[39m",
      "",
      "Stacktrace:",
      " [1] top-level scope at In[24]:1",
      " [2] include_string(::Function, ::Module, ::String, ::String) at ./loading.jl:1091"
     ]
    }
   ],
   "source": [
    "myfavanimals[1] = \"deer\""
   ]
  },
  {
   "cell_type": "markdown",
   "metadata": {},
   "source": [
    "**アレイ型**\n",
    "\n",
    "タプル型や辞書型とも違って開かれた，順繰りの要素を集めたやつである．\n",
    "\n",
    "```[]```で囲めば定義できる．"
   ]
  },
  {
   "cell_type": "code",
   "execution_count": 26,
   "metadata": {},
   "outputs": [
    {
     "data": {
      "text/plain": [
       "4-element Array{String,1}:\n",
       " \"Robin\"\n",
       " \"Nathally\"\n",
       " \"Chales\"\n",
       " \"Lisa\""
      ]
     },
     "execution_count": 26,
     "metadata": {},
     "output_type": "execute_result"
    }
   ],
   "source": [
    "myfriends = [\"Robin\", \"Nathally\", \"Chales\", \"Lisa\"]"
   ]
  },
  {
   "cell_type": "code",
   "execution_count": 39,
   "metadata": {},
   "outputs": [
    {
     "data": {
      "text/plain": [
       "5-element Array{Any,1}:\n",
       " 1\n",
       " 2\n",
       "  'a': ASCII/Unicode U+0061 (category Ll: Letter, lowercase)\n",
       " 3.5\n",
       "  \"hi\""
      ]
     },
     "execution_count": 39,
     "metadata": {},
     "output_type": "execute_result"
    }
   ],
   "source": [
    "fibonacci = [1, 1, 2, 3, 5, 8]\n",
    "mix = [1, 2, 'a', 3.5, \"hi\"]"
   ]
  },
  {
   "cell_type": "markdown",
   "metadata": {},
   "source": [
    " アレイを一旦作ると，個々の要素のデータはindexと結びつく．"
   ]
  },
  {
   "cell_type": "code",
   "execution_count": 30,
   "metadata": {},
   "outputs": [
    {
     "data": {
      "text/plain": [
       "\"Chales\""
      ]
     },
     "execution_count": 30,
     "metadata": {},
     "output_type": "execute_result"
    }
   ],
   "source": [
    "myfriends[3]"
   ]
  },
  {
   "cell_type": "markdown",
   "metadata": {},
   "source": [
    "開かれているので後から編集も可能である．"
   ]
  },
  {
   "cell_type": "code",
   "execution_count": 32,
   "metadata": {},
   "outputs": [
    {
     "data": {
      "text/plain": [
       "\"Bob Sap\""
      ]
     },
     "execution_count": 32,
     "metadata": {},
     "output_type": "execute_result"
    }
   ],
   "source": [
    "myfriends[3] = \"Bob Sap\""
   ]
  },
  {
   "cell_type": "code",
   "execution_count": 35,
   "metadata": {},
   "outputs": [
    {
     "data": {
      "text/plain": [
       "4-element Array{String,1}:\n",
       " \"Robin\"\n",
       " \"Nathally\"\n",
       " \"Bob Sap\"\n",
       " \"Lisa\""
      ]
     },
     "execution_count": 35,
     "metadata": {},
     "output_type": "execute_result"
    }
   ],
   "source": [
    "myfriends"
   ]
  },
  {
   "cell_type": "markdown",
   "metadata": {},
   "source": [
    "要素を後から追加・消去ができる．\n",
    "\n",
    "`push!()`を使えばアレイの一番後ろにくっつけることができる．\n",
    "\n",
    "`pop!()`を使えばアレイの一番後ろの要素を消すことができる．"
   ]
  },
  {
   "cell_type": "code",
   "execution_count": 40,
   "metadata": {},
   "outputs": [
    {
     "data": {
      "text/plain": [
       "7-element Array{Int64,1}:\n",
       "  1\n",
       "  1\n",
       "  2\n",
       "  3\n",
       "  5\n",
       "  8\n",
       " 21"
      ]
     },
     "execution_count": 40,
     "metadata": {},
     "output_type": "execute_result"
    }
   ],
   "source": [
    "push!(fibonacci, 21)"
   ]
  },
  {
   "cell_type": "code",
   "execution_count": 41,
   "metadata": {},
   "outputs": [
    {
     "data": {
      "text/plain": [
       "6-element Array{Int64,1}:\n",
       " 1\n",
       " 1\n",
       " 2\n",
       " 3\n",
       " 5\n",
       " 8"
      ]
     },
     "execution_count": 41,
     "metadata": {},
     "output_type": "execute_result"
    }
   ],
   "source": [
    "pop!(fibonacci)\n",
    "fibonacci"
   ]
  },
  {
   "cell_type": "markdown",
   "metadata": {},
   "source": [
    "ここまでは1次元を扱ってきたが，アレイ型は任意の次元で生成することが可能．"
   ]
  },
  {
   "cell_type": "code",
   "execution_count": 43,
   "metadata": {},
   "outputs": [
    {
     "data": {
      "text/plain": [
       "2-element Array{Array{String,1},1}:\n",
       " [\"bread\", \"egg\", \"bacon\"]\n",
       " [\"popcorn\", \"beer\", \"sake\"]"
      ]
     },
     "execution_count": 43,
     "metadata": {},
     "output_type": "execute_result"
    }
   ],
   "source": [
    "fav = [[\"bread\", \"egg\", \"bacon\"], [\"popcorn\", \"beer\", \"sake\"]]"
   ]
  },
  {
   "cell_type": "code",
   "execution_count": 44,
   "metadata": {},
   "outputs": [
    {
     "data": {
      "text/plain": [
       "3-element Array{Array{Int64,1},1}:\n",
       " [1, 2, 3]\n",
       " [4, 5]\n",
       " [6, 7, 8]"
      ]
     },
     "execution_count": 44,
     "metadata": {},
     "output_type": "execute_result"
    }
   ],
   "source": [
    "numbers = [[1, 2, 3], [4, 5], [6, 7, 8]]"
   ]
  },
  {
   "cell_type": "markdown",
   "metadata": {},
   "source": [
    "乱数を用いて任意の次元のアレイ(この場合は行列)を作ることが可能である．"
   ]
  },
  {
   "cell_type": "code",
   "execution_count": 46,
   "metadata": {},
   "outputs": [
    {
     "data": {
      "text/plain": [
       "4×3 Array{Float64,2}:\n",
       " 0.757679   0.29755    0.42728\n",
       " 0.686168   0.300201   0.538276\n",
       " 0.0490913  0.553006   0.140092\n",
       " 0.949881   0.0451649  0.187607"
      ]
     },
     "execution_count": 46,
     "metadata": {},
     "output_type": "execute_result"
    }
   ],
   "source": [
    "rand(4, 3)"
   ]
  },
  {
   "cell_type": "code",
   "execution_count": 47,
   "metadata": {},
   "outputs": [
    {
     "data": {
      "text/plain": [
       "4×3×2 Array{Float64,3}:\n",
       "[:, :, 1] =\n",
       " 0.529679  0.723906   0.786906\n",
       " 0.951828  0.0893398  0.276238\n",
       " 0.679227  0.134548   0.728771\n",
       " 0.502952  0.850543   0.417757\n",
       "\n",
       "[:, :, 2] =\n",
       " 0.807117  0.447361  0.0954509\n",
       " 0.883213  0.883189  0.7769\n",
       " 0.676522  0.338339  0.750796\n",
       " 0.348545  0.779655  0.813297"
      ]
     },
     "execution_count": 47,
     "metadata": {},
     "output_type": "execute_result"
    }
   ],
   "source": [
    "rand(4, 3, 2)"
   ]
  }
 ],
 "metadata": {
  "kernelspec": {
   "display_name": "Julia 1.5.4",
   "language": "julia",
   "name": "julia-1.5"
  },
  "language_info": {
   "file_extension": ".jl",
   "mimetype": "application/julia",
   "name": "julia",
   "version": "1.5.4"
  }
 },
 "nbformat": 4,
 "nbformat_minor": 4
}
